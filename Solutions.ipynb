{
 "cells": [
  {
   "cell_type": "markdown",
   "metadata": {},
   "source": [
    "![reto0](2017-05-02-121102_1366x768_scrot-iloveimg-cropped.png \"challenge0\")"
   ]
  },
  {
   "cell_type": "code",
   "execution_count": 4,
   "metadata": {},
   "outputs": [
    {
     "data": {
      "text/plain": [
       "274877906944"
      ]
     },
     "execution_count": 4,
     "metadata": {},
     "output_type": "execute_result"
    }
   ],
   "source": [
    "2**38\n",
    "#Cambiar la URL"
   ]
  },
  {
   "cell_type": "markdown",
   "metadata": {},
   "source": [
    "![reto1](reto1.png \"reto1\")"
   ]
  },
  {
   "cell_type": "code",
   "execution_count": 3,
   "metadata": {},
   "outputs": [
    {
     "data": {
      "text/plain": [
       "\"i hope you didnt translate it by hand. thats what computers are for. doing it in by hand is inefficient and that's why this text is so long. using string.maketrans() is recommended. now apply on the url.\""
      ]
     },
     "execution_count": 3,
     "metadata": {},
     "output_type": "execute_result"
    }
   ],
   "source": [
    "s = \"g fmnc wms bgblr rpylqjyrc gr zw fylb. rfyrq ufyr amknsrcpq ypc dmp. bmgle gr gl zw fylb gq glcddgagclr ylb rfyr'q ufw rfgq rcvr gq qm jmle. sqgle qrpgle.kyicrpylq() gq pcamkkclbcb. lmu ynnjw ml rfc spj.\"\n",
    "\n",
    "from string import maketrans\n",
    "T = maketrans('abcdefghijklmnopqrstuvwxyz',\"cdefghijklmnopqrstuvwxyzab\") \n",
    "s.translate(T)\n",
    "\n"
   ]
  },
  {
   "cell_type": "code",
   "execution_count": 5,
   "metadata": {},
   "outputs": [
    {
     "data": {
      "text/plain": [
       "'ocr'"
      ]
     },
     "execution_count": 5,
     "metadata": {},
     "output_type": "execute_result"
    }
   ],
   "source": [
    "#Aplicacarlo a la url \n",
    "s1=\"map\"\n",
    "s1.translate(T)\n",
    "#Cambiar la url"
   ]
  },
  {
   "cell_type": "markdown",
   "metadata": {},
   "source": [
    "![reto2](reto2.png \"reto2\")"
   ]
  },
  {
   "cell_type": "markdown",
   "metadata": {
    "collapsed": true
   },
   "source": [
    "![HTML](2017-05-02-210816_1366x768_scrot.png \"HTML\")"
   ]
  },
  {
   "cell_type": "code",
   "execution_count": 9,
   "metadata": {},
   "outputs": [
    {
     "name": "stdout",
     "output_type": "stream",
     "text": [
      "equality\n"
     ]
    }
   ],
   "source": [
    "#archivo de texto con los caracteres\n",
    "with open(\"p.txt\", 'r') as f:\n",
    "    d= f.read()\n",
    "\n",
    "s = []\n",
    "l= list(d)\n",
    "\n",
    "for i in xrange(len(l)):\n",
    "    if (65 <= ord(l[i]) <= 90) or (97 <= ord(l[i]) <= 122):\n",
    "        s+=l[i]\n",
    "\n",
    "texto = \"\".join(s)\n",
    "print texto"
   ]
  },
  {
   "cell_type": "markdown",
   "metadata": {
    "collapsed": true
   },
   "source": [
    "![reto3](2017-05-02-200947_1366x768_scrot-iloveimg-cropped.png \"reto3\")"
   ]
  },
  {
   "cell_type": "code",
   "execution_count": 1,
   "metadata": {},
   "outputs": [
    {
     "name": "stdout",
     "output_type": "stream",
     "text": [
      "linkedlist\n"
     ]
    }
   ],
   "source": [
    "import re\n",
    "\n",
    "with open(\"reto3.txt\", 'r') as f:\n",
    "    d= f.read()\n",
    "r=\"\".join(re.findall(\"[^A-Z]+[A-Z]{3}([a-z])[A-Z]{3}[^A-Z]+\", d))\n",
    "print r      "
   ]
  },
  {
   "cell_type": "markdown",
   "metadata": {
    "collapsed": true
   },
   "source": [
    "![reto4](reto4.png \"reto4\")"
   ]
  },
  {
   "cell_type": "code",
   "execution_count": 1,
   "metadata": {},
   "outputs": [
    {
     "name": "stdout",
     "output_type": "stream",
     "text": [
      "25357\n",
      "89879\n",
      "80119\n",
      "50290\n",
      "9297\n",
      "30571\n",
      "7414\n",
      "30978\n",
      "16408\n",
      "80109\n",
      "55736\n",
      "15357\n",
      "80887\n",
      "35014\n",
      "16523\n",
      "50286\n",
      "34813\n",
      "77562\n",
      "54746\n",
      "22680\n",
      "19705\n",
      "77000\n",
      "27634\n",
      "21008\n",
      "64994\n",
      "66109\n",
      "37855\n",
      "36383\n",
      "68548\n",
      "96070\n",
      "83051\n",
      "58026\n",
      "44726\n",
      "35748\n",
      "61287\n",
      "559\n",
      "81318\n",
      "50443\n",
      "1570\n",
      "75244\n",
      "56265\n",
      "17694\n",
      "48033\n",
      "56523\n",
      "51253\n",
      "85750\n",
      "42760\n",
      "11877\n",
      "15962\n",
      "75494\n",
      "87283\n",
      "40396\n",
      "49574\n",
      "82682\n",
      "63579\n",
      "37278\n",
      "53548\n",
      "66081\n",
      "67753\n",
      "56337\n",
      "3356\n",
      "94525\n",
      "89574\n",
      "4413\n",
      "82294\n",
      "56060\n",
      "95493\n",
      "80865\n",
      "66242\n",
      "16065\n",
      "62145\n",
      "23147\n",
      "83763\n",
      "62381\n",
      "76841\n",
      "91706\n",
      "9268\n",
      "64814\n",
      "80809\n",
      "14039\n",
      "73355\n",
      "81905\n",
      "36402\n",
      "27221\n",
      "79607\n",
      "91763\n",
      "11631\n",
      "76396\n",
      "69905\n",
      "11073\n",
      "71281\n",
      "54345\n",
      "19047\n",
      "34376\n",
      "3193\n",
      "74258\n",
      "62712\n",
      "1823\n",
      "21232\n",
      "87890\n",
      "21545\n",
      "37136\n",
      "23060\n",
      "5385\n",
      "4620\n",
      "39111\n",
      "35914\n",
      "60310\n",
      "19178\n",
      "44671\n",
      "45736\n",
      "9216\n",
      "12585\n",
      "11302\n",
      "33096\n",
      "13967\n",
      "57004\n",
      "64196\n",
      "73929\n",
      "24800\n",
      "25081\n",
      "90033\n",
      "45919\n",
      "54827\n",
      "73950\n",
      "56978\n",
      "8133\n",
      "61900\n",
      "47769\n",
      "631\n",
      "2284\n",
      "60074\n",
      "35959\n",
      "57158\n",
      "90990\n",
      "27935\n",
      "99927\n",
      "41785\n",
      "32660\n",
      "4328\n",
      "42067\n",
      "8743\n",
      "38613\n",
      "21100\n",
      "77864\n",
      "6523\n",
      "6927\n",
      "82930\n",
      "35846\n",
      "31785\n",
      "41846\n",
      "72387\n",
      "59334\n",
      "65520\n",
      "93781\n",
      "55840\n",
      "80842\n",
      "59022\n",
      "23298\n",
      "27709\n",
      "96791\n",
      "75635\n",
      "52899\n",
      "66831\n",
      "peak.html\n"
     ]
    },
    {
     "ename": "ValueError",
     "evalue": "invalid literal for int() with base 10: 'peak.html'",
     "output_type": "error",
     "traceback": [
      "\u001b[0;31m---------------------------------------------------------------------------\u001b[0m",
      "\u001b[0;31mValueError\u001b[0m                                Traceback (most recent call last)",
      "\u001b[0;32m<ipython-input-1-a661be020671>\u001b[0m in \u001b[0;36m<module>\u001b[0;34m()\u001b[0m\n\u001b[1;32m     16\u001b[0m \u001b[0msig\u001b[0m \u001b[0;34m/=\u001b[0m\u001b[0;36m2\u001b[0m\u001b[0;34m\u001b[0m\u001b[0m\n\u001b[1;32m     17\u001b[0m \u001b[0msig\u001b[0m\u001b[0;34m=\u001b[0m\u001b[0mstr\u001b[0m\u001b[0;34m(\u001b[0m\u001b[0msig\u001b[0m\u001b[0;34m)\u001b[0m\u001b[0;34m\u001b[0m\u001b[0m\n\u001b[0;32m---> 18\u001b[0;31m \u001b[0;32mwhile\u001b[0m \u001b[0;34m(\u001b[0m\u001b[0msig\u001b[0m\u001b[0;34m==\u001b[0m\u001b[0mstr\u001b[0m\u001b[0;34m(\u001b[0m\u001b[0mint\u001b[0m\u001b[0;34m(\u001b[0m\u001b[0msig\u001b[0m\u001b[0;34m)\u001b[0m\u001b[0;34m)\u001b[0m\u001b[0;34m)\u001b[0m\u001b[0;34m:\u001b[0m\u001b[0;34m\u001b[0m\u001b[0m\n\u001b[0m\u001b[1;32m     19\u001b[0m     \u001b[0msig\u001b[0m\u001b[0;34m=\u001b[0m\u001b[0mnuevo_n\u001b[0m\u001b[0;34m(\u001b[0m\u001b[0msig\u001b[0m\u001b[0;34m)\u001b[0m\u001b[0;34m\u001b[0m\u001b[0m\n\u001b[1;32m     20\u001b[0m     \u001b[0;32mprint\u001b[0m \u001b[0msig\u001b[0m\u001b[0;34m\u001b[0m\u001b[0m\n",
      "\u001b[0;31mValueError\u001b[0m: invalid literal for int() with base 10: 'peak.html'"
     ]
    }
   ],
   "source": [
    "from urllib import urlopen \n",
    "url='http://www.pythonchallenge.com/pc/def/linkedlist.php'\n",
    "pagina=urlopen(url)\n",
    "contenido=pagina.read()\n",
    "pagina.close()\n",
    "desde='a href='\n",
    "hasta='\"' \n",
    "n=contenido.split(desde)[1].split(hasta)[1][23:]\n",
    "def nuevo_n(n):\n",
    "    nueva=url+'?nothing='+n\n",
    "    pagina=urlopen(nueva)\n",
    "    contenido=pagina.read()\n",
    "    pagina.close()\n",
    "    return contenido.split()[-1]\n",
    "sig=16044\n",
    "sig /=2\n",
    "sig=str(sig)\n",
    "while (sig==str(int(sig))):\n",
    "    sig=nuevo_n(sig)\n",
    "    print sig\n",
    "    nuevo_n(sig)\n",
    "#cambiar la url peak.html"
   ]
  },
  {
   "cell_type": "code",
   "execution_count": null,
   "metadata": {
    "collapsed": true
   },
   "outputs": [],
   "source": []
  }
 ],
 "metadata": {
  "kernelspec": {
   "display_name": "Python 2",
   "language": "python",
   "name": "python2"
  },
  "language_info": {
   "codemirror_mode": {
    "name": "ipython",
    "version": 2
   },
   "file_extension": ".py",
   "mimetype": "text/x-python",
   "name": "python",
   "nbconvert_exporter": "python",
   "pygments_lexer": "ipython2",
   "version": "2.7.12"
  }
 },
 "nbformat": 4,
 "nbformat_minor": 2
}

{
 "cells": [
  {
   "cell_type": "markdown",
   "metadata": {},
   "source": [
    "![reto0](2017-05-02-121102_1366x768_scrot-iloveimg-cropped.png \"challenge0\")"
   ]
  },
  {
   "cell_type": "code",
   "execution_count": 4,
   "metadata": {},
   "outputs": [
    {
     "data": {
      "text/plain": [
       "274877906944"
      ]
     },
     "execution_count": 4,
     "metadata": {},
     "output_type": "execute_result"
    }
   ],
   "source": [
    "2**38\n",
    "#Cambiar la URL"
   ]
  },
  {
   "cell_type": "markdown",
   "metadata": {},
   "source": [
    "![reto1](reto1.png \"reto1\")"
   ]
  },
  {
   "cell_type": "code",
   "execution_count": 3,
   "metadata": {},
   "outputs": [
    {
     "data": {
      "text/plain": [
       "\"i hope you didnt translate it by hand. thats what computers are for. doing it in by hand is inefficient and that's why this text is so long. using string.maketrans() is recommended. now apply on the url.\""
      ]
     },
     "execution_count": 3,
     "metadata": {},
     "output_type": "execute_result"
    }
   ],
   "source": [
    "s = \"g fmnc wms bgblr rpylqjyrc gr zw fylb. rfyrq ufyr amknsrcpq ypc dmp. bmgle gr gl zw fylb gq glcddgagclr ylb rfyr'q ufw rfgq rcvr gq qm jmle. sqgle qrpgle.kyicrpylq() gq pcamkkclbcb. lmu ynnjw ml rfc spj.\"\n",
    "\n",
    "from string import maketrans\n",
    "T = maketrans('abcdefghijklmnopqrstuvwxyz',\"cdefghijklmnopqrstuvwxyzab\") \n",
    "s.translate(T)\n",
    "\n"
   ]
  },
  {
   "cell_type": "code",
   "execution_count": 5,
   "metadata": {},
   "outputs": [
    {
     "data": {
      "text/plain": [
       "'ocr'"
      ]
     },
     "execution_count": 5,
     "metadata": {},
     "output_type": "execute_result"
    }
   ],
   "source": [
    "#Aplicacarlo a la url \n",
    "s1=\"map\"\n",
    "s1.translate(T)\n",
    "#Cambiar la url"
   ]
  },
  {
   "cell_type": "markdown",
   "metadata": {},
   "source": [
    "![reto2](reto2.png \"reto2\")"
   ]
  },
  {
   "cell_type": "markdown",
   "metadata": {
    "collapsed": true
   },
   "source": [
    "![HTML](2017-05-02-210816_1366x768_scrot.png \"HTML\")"
   ]
  },
  {
   "cell_type": "code",
   "execution_count": 9,
   "metadata": {},
   "outputs": [
    {
     "name": "stdout",
     "output_type": "stream",
     "text": [
      "equality\n"
     ]
    }
   ],
   "source": [
    "#archivo de texto con los caracteres\n",
    "with open(\"p.txt\", 'r') as f:\n",
    "    d= f.read()\n",
    "\n",
    "s = []\n",
    "l= list(d)\n",
    "\n",
    "for i in xrange(len(l)):\n",
    "    if (65 <= ord(l[i]) <= 90) or (97 <= ord(l[i]) <= 122):\n",
    "        s+=l[i]\n",
    "\n",
    "texto = \"\".join(s)\n",
    "print texto"
   ]
  },
  {
   "cell_type": "code",
   "execution_count": null,
   "metadata": {
    "collapsed": true
   },
   "outputs": [],
   "source": []
  }
 ],
 "metadata": {
  "kernelspec": {
   "display_name": "Python 2",
   "language": "python",
   "name": "python2"
  },
  "language_info": {
   "codemirror_mode": {
    "name": "ipython",
    "version": 2
   },
   "file_extension": ".py",
   "mimetype": "text/x-python",
   "name": "python",
   "nbconvert_exporter": "python",
   "pygments_lexer": "ipython2",
   "version": "2.7.12"
  }
 },
 "nbformat": 4,
 "nbformat_minor": 2
}
